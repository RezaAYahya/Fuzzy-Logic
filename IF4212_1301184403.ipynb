{
 "cells": [
  {
   "cell_type": "markdown",
   "metadata": {},
   "source": [
    "# Tugas 2 Pengantar Kecerdasan Buatan - Fuzzy Logic\n",
    "Nama : Reza Ahmad Yahya\n",
    "NIM : 1301184403\n",
    "Kelas : IF-42-12"
   ]
  },
  {
   "cell_type": "code",
   "execution_count": 1,
   "metadata": {},
   "outputs": [],
   "source": [
    "import pandas as pd\n",
    "import matplotlib.pyplot as plt"
   ]
  },
  {
   "cell_type": "code",
   "execution_count": 2,
   "metadata": {},
   "outputs": [
    {
     "data": {
      "text/html": [
       "<div>\n",
       "<style scoped>\n",
       "    .dataframe tbody tr th:only-of-type {\n",
       "        vertical-align: middle;\n",
       "    }\n",
       "\n",
       "    .dataframe tbody tr th {\n",
       "        vertical-align: top;\n",
       "    }\n",
       "\n",
       "    .dataframe thead th {\n",
       "        text-align: right;\n",
       "    }\n",
       "</style>\n",
       "<table border=\"1\" class=\"dataframe\">\n",
       "  <thead>\n",
       "    <tr style=\"text-align: right;\">\n",
       "      <th></th>\n",
       "      <th>Id</th>\n",
       "      <th>Penghasilan</th>\n",
       "      <th>Pengeluaran</th>\n",
       "    </tr>\n",
       "  </thead>\n",
       "  <tbody>\n",
       "    <tr>\n",
       "      <th>0</th>\n",
       "      <td>1</td>\n",
       "      <td>18.76</td>\n",
       "      <td>9.68</td>\n",
       "    </tr>\n",
       "    <tr>\n",
       "      <th>1</th>\n",
       "      <td>2</td>\n",
       "      <td>8.35</td>\n",
       "      <td>4.52</td>\n",
       "    </tr>\n",
       "    <tr>\n",
       "      <th>2</th>\n",
       "      <td>3</td>\n",
       "      <td>17.03</td>\n",
       "      <td>10.11</td>\n",
       "    </tr>\n",
       "    <tr>\n",
       "      <th>3</th>\n",
       "      <td>4</td>\n",
       "      <td>8.23</td>\n",
       "      <td>9.25</td>\n",
       "    </tr>\n",
       "    <tr>\n",
       "      <th>4</th>\n",
       "      <td>5</td>\n",
       "      <td>16.89</td>\n",
       "      <td>6.99</td>\n",
       "    </tr>\n",
       "  </tbody>\n",
       "</table>\n",
       "</div>"
      ],
      "text/plain": [
       "   Id  Penghasilan  Pengeluaran\n",
       "0   1        18.76         9.68\n",
       "1   2         8.35         4.52\n",
       "2   3        17.03        10.11\n",
       "3   4         8.23         9.25\n",
       "4   5        16.89         6.99"
      ]
     },
     "execution_count": 2,
     "metadata": {},
     "output_type": "execute_result"
    }
   ],
   "source": [
    "# Read File\n",
    "filename = 'Mahasiswa - Mahasiswa.csv'\n",
    "data = pd.read_csv(filename)\n",
    "dataPenghasilan = data['Penghasilan']\n",
    "dataPengeluaran = data['Pengeluaran']\n",
    "dataID = data['Id']\n",
    "data.head()"
   ]
  },
  {
   "cell_type": "code",
   "execution_count": 3,
   "metadata": {},
   "outputs": [],
   "source": [
    "# Prosedur Linguistik untuk bentuk fungsi trapesium\n",
    "def trapesium(x,a,b,c,d):\n",
    "    if x <= a or x >= d:\n",
    "        return 0\n",
    "    elif x > a and x < b:\n",
    "        return (x-a)/(b-a)\n",
    "    elif x >= b and x <= c:\n",
    "        return 1\n",
    "    elif x > c and x <= d:\n",
    "        return -(x-d)/(d-c)"
   ]
  },
  {
   "cell_type": "code",
   "execution_count": 4,
   "metadata": {},
   "outputs": [
    {
     "data": {
      "image/png": "[encoded data removed]",
      "text/plain": [
       "<Figure size 432x288 with 1 Axes>"
      ]
     },
     "metadata": {
      "needs_background": "light"
     },
     "output_type": "display_data"
    }
   ],
   "source": [
    "# Pengisian fuzzyset Penghasilan indeks 1: Kecil, indeks 2: Sedang, indeks 3: Besar, indeks 4: Sangat Besar\n",
    "FuzzysetPenghasilan = []\n",
    "for i in dataPenghasilan:\n",
    "    temp1 = [\"Kecil\", (trapesium(i,-999,0,1.00,3.00))]\n",
    "    temp2 = [\"Sedang\", (trapesium(i,1.00,3.00,4.00,6.00))]\n",
    "    temp3 = [\"Besar\", (trapesium(i,4.00,6.00,7.00,12.00))]\n",
    "    temp4 = [\"Sangat Besar\", (trapesium(i,7.00,12.00,20.00,999))]\n",
    "    FuzzysetPenghasilan.append([temp1, temp2, temp3, temp4])    \n",
    "\n",
    "# Gambar Fungsi Keanggotaan Trapesium : Penghasilan\n",
    "x_kecil = [0, 1, 3, 20]\n",
    "y_kecil = [1, 1, 0, 0]\n",
    "\n",
    "x_sedang = [0, 1, 3, 4, 6, 20]\n",
    "y_sedang = [0, 0, 1, 1, 0, 0]\n",
    "\n",
    "x_besar = [0, 4, 6, 7, 12, 20]\n",
    "y_besar = [0, 0, 1, 1, 0, 0]\n",
    "\n",
    "x_sangatbesar = [0, 7, 12, 20]\n",
    "y_sangatbesar = [0, 0, 1, 1]\n",
    "\n",
    "xticks = [i for i in range(21)]\n",
    "fig, ax = plt.subplots()\n",
    "ax.plot(x_kecil, y_kecil, label='Gaji Kecil')\n",
    "ax.plot(x_sedang, y_sedang, label='Gaji Sedang')\n",
    "ax.plot(x_besar, y_besar, label='Gaji Besar')\n",
    "ax.plot(x_sangatbesar, y_sangatbesar, label='Gaji Sangat Besar')\n",
    "ax.set_xticks(xticks)\n",
    "ax.set_xlabel('Penghasilan (Juta Rupiah)')\n",
    "ax.set_ylabel('Myu')\n",
    "ax.legend()\n",
    "plt.show()"
   ]
  },
  {
   "cell_type": "code",
   "execution_count": 5,
   "metadata": {
    "scrolled": true
   },
   "outputs": [
    {
     "data": {
      "image/png": "[encoded data removed]",
      "text/plain": [
       "<Figure size 432x288 with 1 Axes>"
      ]
     },
     "metadata": {
      "needs_background": "light"
     },
     "output_type": "display_data"
    }
   ],
   "source": [
    "# Pengisian fuzzyset Pengeluaran indeks 1: Sedikit, indeks 2: Sedang, indeks 3: Banyak\n",
    "FuzzysetPengeluaran = []\n",
    "for i in dataPengeluaran:\n",
    "    temp1 = [\"Sedikit\", (trapesium(i,-999,0,1.00,4.00))]\n",
    "    temp2 = [\"Sedang\", (trapesium(i,2.00,4.00,5.00,8.00))]\n",
    "    temp3 = [\"Banyak\", (trapesium(i,6.00,10.00,13.00,999))]\n",
    "    FuzzysetPengeluaran.append([temp1, temp2, temp3])  \n",
    "\n",
    "# Gambar Fungsi Keanggotaan Trapesium : Pengeluaran\n",
    "x_kecil = [0, 1, 4, 13]\n",
    "y_kecil = [1, 1, 0, 0]\n",
    "\n",
    "x_sedang = [0, 2, 4, 5, 8, 13]\n",
    "y_sedang = [0, 0, 1, 1, 0, 0]\n",
    "\n",
    "x_besar = [0, 6, 10, 13]\n",
    "y_besar = [0, 0, 1, 1]\n",
    "\n",
    "xticks = [i for i in range(14)]\n",
    "fig, ax = plt.subplots()\n",
    "ax.plot(x_kecil, y_kecil, label='Pengeluaran Sedikit')\n",
    "ax.plot(x_sedang, y_sedang, label='Pengeluaran Sedang')\n",
    "ax.plot(x_besar, y_besar, label='Pengeluaran Banyak')\n",
    "ax.set_xticks(xticks)\n",
    "ax.set_xlabel('Pengeluaran (Juta Rupiah)')\n",
    "ax.set_ylabel('Myu')\n",
    "ax.legend()\n",
    "plt.show()"
   ]
  },
  {
   "cell_type": "code",
   "execution_count": 6,
   "metadata": {},
   "outputs": [
    {
     "data": {
      "image/png": "[encoded data removed]",
      "text/plain": [
       "<Figure size 432x288 with 1 Axes>"
      ]
     },
     "metadata": {
      "needs_background": "light"
     },
     "output_type": "display_data"
    }
   ],
   "source": [
    "# 12 Aturan Fuzzy\n",
    "def FuzzyRule(a):\n",
    "    if a[0][0] == \"Kecil\" and a[1][0] == \"Sedikit\": \n",
    "        if a[0][1] < a[1][1]:\n",
    "            return [\"Tinggi\", a[0][1]]\n",
    "        else:\n",
    "            return [\"Tinggi\", a[1][1]]\n",
    "    if a[0][0] == \"Kecil\" and a[1][0] == \"Sedang\": \n",
    "        if a[0][1] < a[1][1]:\n",
    "            return [\"Tinggi\", a[0][1]]\n",
    "        else:\n",
    "            return [\"Tinggi\", a[1][1]]\n",
    "    if a[0][0] == \"Kecil\" and a[1][0] == \"Banyak\": \n",
    "        if a[0][1] < a[1][1]:\n",
    "            return [\"Tinggi\", a[0][1]]\n",
    "        else:\n",
    "            return [\"Tinggi\", a[1][1]]\n",
    "    if a[0][0] == \"Sedang\" and a[1][0] == \"Sedikit\": \n",
    "        if a[0][1] < a[1][1]:\n",
    "            return [\"Rendah\", a[0][1]]\n",
    "        else:\n",
    "            return [\"Rendah\", a[1][1]]\n",
    "    if a[0][0] == \"Sedang\" and a[1][0] == \"Sedang\": \n",
    "        if a[0][1] < a[1][1]:\n",
    "            return [\"Tinggi\", a[0][1]]\n",
    "        else:\n",
    "            return [\"Tinggi\", a[1][1]]\n",
    "    if a[0][0] == \"Sedang\" and a[1][0] == \"Banyak\": \n",
    "        if a[0][1] < a[1][1]:\n",
    "            return [\"Tinggi\", a[0][1]]\n",
    "        else:\n",
    "            return [\"Tinggi\", a[1][1]]\n",
    "    if a[0][0] == \"Besar\" and a[1][0] == \"Sedikit\": \n",
    "        if a[0][1] < a[1][1]:\n",
    "            return [\"Rendah\", a[0][1]]\n",
    "        else:\n",
    "            return [\"Rendah\", a[1][1]]\n",
    "    if a[0][0] == \"Besar\" and a[1][0] == \"Sedang\": \n",
    "        if a[0][1] < a[1][1]:\n",
    "            return [\"Rendah\", a[0][1]]\n",
    "        else:\n",
    "            return [\"Rendah\", a[1][1]]\n",
    "    if a[0][0] == \"Besar\" and a[1][0] == \"Banyak\": \n",
    "        if a[0][1] < a[1][1]:\n",
    "            return [\"Tinggi\", a[0][1]]\n",
    "        else:\n",
    "            return [\"Tinggi\", a[1][1]]\n",
    "    if a[0][0] == \"Sangat Besar\" and a[1][0] == \"Sedikit\": \n",
    "        if a[0][1] < a[1][1]:\n",
    "            return [\"Rendah\", a[0][1]]\n",
    "        else:\n",
    "            return [\"Rendah\", a[1][1]]\n",
    "    if a[0][0] == \"Sangat Besar\" and a[1][0] == \"Sedang\": \n",
    "        if a[0][1] < a[1][1]:\n",
    "            return [\"Rendah\", a[0][1]]\n",
    "        else:\n",
    "            return [\"Rendah\", a[1][1]]\n",
    "    if a[0][0] == \"Sangat Besar\" and a[1][0] == \"Banyak\": \n",
    "        if a[0][1] < a[1][1]:\n",
    "            return [\"Rendah\", a[0][1]]\n",
    "        else:\n",
    "            return [\"Rendah\", a[1][1]]\n",
    "\n",
    "# Gambar Nilai Kelayakan\n",
    "x_rendah = [0, 50, 80, 100]\n",
    "y_rendah = [1, 1, 0, 0]\n",
    "\n",
    "x_tinggi = [0, 50, 80, 100]\n",
    "y_tinggi = [0, 0, 1, 1]\n",
    "\n",
    "xticks = [i*10 for i in range(11)]\n",
    "fig, ax = plt.subplots()\n",
    "ax.plot(x_rendah, y_rendah, label='NK Rendah')\n",
    "ax.plot(x_tinggi, y_tinggi, label='NK Tinggi')\n",
    "ax.set_xticks(xticks)\n",
    "ax.set_xlabel('Nilai Kelayakan skala [0,100]')\n",
    "ax.set_ylabel('Myu')\n",
    "ax.legend()\n",
    "plt.show()"
   ]
  },
  {
   "cell_type": "code",
   "execution_count": 14,
   "metadata": {},
   "outputs": [
    {
     "data": {
      "text/plain": [
       "[['Kecil', 0], ['Sedang', 0], ['Besar', 0], ['Sangat Besar', 1]]"
      ]
     },
     "execution_count": 14,
     "metadata": {},
     "output_type": "execute_result"
    }
   ],
   "source": [
    "# Disjunction\n",
    "def disjunct(a,b):\n",
    "    temp = [\"Tinggi\", 0]\n",
    "    temp2 = [\"Rendah\", 0]\n",
    "    for i in range(len(a)):\n",
    "        if (a[i][0] == \"Rendah\"):\n",
    "            if (a[i][1] > temp2[1]):\n",
    "                temp2 = [\"Rendah\", a[i][1]]\n",
    "        elif (a[i][0] == \"Tinggi\"):\n",
    "            if (a[i][1] > temp[1]):\n",
    "                temp = [\"Tinggi\", a[i][1]]\n",
    "    return [b+1,temp,temp2]\n",
    "\n",
    "# Fuzzification untuk 12 aturan, total data : 12 x 100 = 1200 data\n",
    "temp = []\n",
    "Fuzzification = []\n",
    "for i in range(len(dataID)):\n",
    "    for j in range(len(FuzzysetPenghasilan[i])):\n",
    "        for k in range(len(FuzzysetPengeluaran[j])):\n",
    "            temp = [FuzzysetPenghasilan[i][j],FuzzysetPengeluaran[j][k]]\n",
    "            Fuzzification.append(temp)\n",
    "\n",
    "# Penampungan Data Konjungsi\n",
    "count = 1\n",
    "temp = []\n",
    "ConFuzzy = []\n",
    "for i in range(len(Fuzzification)):    \n",
    "    temp.append(FuzzyRule(Fuzzification[i]))\n",
    "    if (count != 12):\n",
    "        count += 1\n",
    "    else:\n",
    "        ConFuzzy.append(temp)\n",
    "        count = 1\n",
    "        temp = []\n",
    "\n",
    "# Penampungan Data Disjungsi\n",
    "DisFuzzy = []\n",
    "for i in range(len(ConFuzzy)):\n",
    "    DisFuzzy.append(disjunct(ConFuzzy[i],i))\n",
    "    \n",
    "FuzzysetPenghasilan[0]"
   ]
  },
  {
   "cell_type": "code",
   "execution_count": 15,
   "metadata": {},
   "outputs": [
    {
     "name": "stdout",
     "output_type": "stream",
     "text": [
      "3\n"
     ]
    },
    {
     "data": {
      "image/png": "[encoded data removed]",
      "text/plain": [
       "<Figure size 432x288 with 1 Axes>"
      ]
     },
     "metadata": {
      "needs_background": "light"
     },
     "output_type": "display_data"
    }
   ],
   "source": [
    "# Defuzzyfication : Sugeno\n",
    "tinggi = 100\n",
    "rendah = 50\n",
    "DeFuzzification = []\n",
    "list = []\n",
    "\n",
    "def sugeno(a,b):\n",
    "    return (a*tinggi + b*rendah)/(a+b)\n",
    "\n",
    "for i in range(len(DisFuzzy)):\n",
    "    a = DisFuzzy[i][1][1]\n",
    "    b = DisFuzzy[i][2][1]\n",
    "    DeFuzzification.append([i+1, sugeno(a,b)])\n",
    "\n",
    "print(len(DisFuzzy[0]))\n",
    "# Sort hasil fuzzy untuk memilih 20 hasil terbaik\n",
    "DeFuzzification = sorted(DeFuzzification, key=lambda kk: kk[1], reverse = True)\n",
    "for i in range(20):\n",
    "    list.append(DeFuzzification[i][0])\n",
    "\n",
    "# Gambar diagram sugeno\n",
    "xticks = [i*10 for i in range(11)]\n",
    "fig, ax = plt.subplots()\n",
    "ax.axvline(x=50, color='red', label='Rendah')\n",
    "ax.axvline(x=100, color='blue', label='Tinggi')\n",
    "ax.set_xticks(xticks)\n",
    "ax.set_ylabel('Myu')\n",
    "ax.legend()\n",
    "plt.show()"
   ]
  },
  {
   "cell_type": "code",
   "execution_count": 9,
   "metadata": {},
   "outputs": [],
   "source": [
    "# Result to 'Bantuan.xls' (Berisi data ID/nomor baris 1-100 pada file Mahasiswa.xls)\n",
    "# df = pd.DataFrame(list, columns = ['Mahasiswa ke-'])\n",
    "# df.to_excel(r'F:\\SEMESTER 5\\AI\\Week 8\\Bantuan.xlsx', index = False, header=True)"
   ]
  }
 ],
 "metadata": {
  "kernelspec": {
   "display_name": "myenv",
   "language": "python",
   "name": "myenv"
  },
  "language_info": {
   "codemirror_mode": {
    "name": "ipython",
    "version": 3
   },
   "file_extension": ".py",
   "mimetype": "text/x-python",
   "name": "python",
   "nbconvert_exporter": "python",
   "pygments_lexer": "ipython3",
   "version": "3.8.1"
  }
 },
 "nbformat": 4,
 "nbformat_minor": 4
}
